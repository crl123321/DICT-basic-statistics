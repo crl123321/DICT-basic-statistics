{
 "cells": [
  {
   "cell_type": "markdown",
   "id": "a9195d9c",
   "metadata": {},
   "source": [
    "### Python Review"
   ]
  },
  {
   "cell_type": "markdown",
   "id": "47853a33",
   "metadata": {},
   "source": [
    "#### Functions"
   ]
  },
  {
   "cell_type": "markdown",
   "id": "96fcfb87",
   "metadata": {},
   "source": [
    "A **function** is a block of code which only runs when it is called. \n",
    "You can pass data, known as **_parameters_**, into a function.\n",
    "A function can also **return** data as a result.\n",
    "This function, **get_mean**, has one parameter **ave**.\n",
    "The value of **n** is passed into the function and returns a result when the function is called."
   ]
  },
  {
   "cell_type": "code",
   "execution_count": 1,
   "id": "002aca66",
   "metadata": {},
   "outputs": [
    {
     "name": "stdout",
     "output_type": "stream",
     "text": [
      "The mean of this list is 81.5\n"
     ]
    }
   ],
   "source": [
    "def get_mean(ave):\n",
    "    print(\"The mean of this list is\", ave)\n",
    "    \n",
    "n_num = [78, 80, 79, 80, 87, 85]\n",
    "n = len(n_num)\n",
    "\n",
    "get_sum = sum(n_num)\n",
    "mean = get_sum / n\n",
    "\n",
    "m = str(mean)\n",
    "\n",
    "get_mean(m)"
   ]
  },
  {
   "cell_type": "markdown",
   "id": "1ba4e1ad",
   "metadata": {},
   "source": [
    "#### Arrays and Lists"
   ]
  },
  {
   "cell_type": "markdown",
   "id": "1d0bd88a",
   "metadata": {},
   "source": [
    "An **array** is a type of data structure. To use an array in Python, we need to **import** this data structure from the **array** module.\n",
    "A **list** is a data structure that's built into Python and holds a collection of items.\n",
    "\n",
    "This code prints the **_first 5 elements_** of the array friends_usage. In both arrays and lists, the index starts from \"0\" not \"1\"."
   ]
  },
  {
   "cell_type": "code",
   "execution_count": 3,
   "id": "5513ff38",
   "metadata": {
    "scrolled": true
   },
   "outputs": [
    {
     "name": "stdout",
     "output_type": "stream",
     "text": [
      "array('i', [5, 4, 3, 5, 8])\n"
     ]
    }
   ],
   "source": [
    "import array as arr\n",
    "\n",
    "friends_usage = [5, 4, 3, 5, 8, 2, 5, 2, 5, 8, 10, 8, 7, 9, 10, 5, 7, 5, 7, 5, 4, 3, 5, 8, 4]\n",
    "sample_data = arr.array('i', friends_usage)\n",
    "\n",
    "print(sample_data[0:5])\n",
    "# 1st to 5th element"
   ]
  },
  {
   "cell_type": "markdown",
   "id": "d2774abf",
   "metadata": {},
   "source": [
    "#This code converts **sample_data array** to an ordiary list with the same items."
   ]
  },
  {
   "cell_type": "code",
   "execution_count": 4,
   "id": "71a894d9",
   "metadata": {},
   "outputs": [
    {
     "name": "stdout",
     "output_type": "stream",
     "text": [
      "[5, 4, 3, 5, 8]\n"
     ]
    }
   ],
   "source": [
    "from array import *\n",
    "sample_data_array = array('i', [5, 4, 3, 5, 8])\n",
    "\n",
    "sample_data_list = sample_data_array.tolist()\n",
    "print(sample_data_list)"
   ]
  }
 ],
 "metadata": {
  "kernelspec": {
   "display_name": "Python 3 (ipykernel)",
   "language": "python",
   "name": "python3"
  },
  "language_info": {
   "codemirror_mode": {
    "name": "ipython",
    "version": 3
   },
   "file_extension": ".py",
   "mimetype": "text/x-python",
   "name": "python",
   "nbconvert_exporter": "python",
   "pygments_lexer": "ipython3",
   "version": "3.10.4"
  }
 },
 "nbformat": 4,
 "nbformat_minor": 5
}
