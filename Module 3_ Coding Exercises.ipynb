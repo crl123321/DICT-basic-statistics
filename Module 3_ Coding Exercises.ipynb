{
 "cells": [
  {
   "cell_type": "markdown",
   "id": "3eccfc14",
   "metadata": {},
   "source": [
    "##  Coding Exercise"
   ]
  },
  {
   "cell_type": "code",
   "execution_count": 3,
   "id": "f80ff2be",
   "metadata": {},
   "outputs": [
    {
     "name": "stdout",
     "output_type": "stream",
     "text": [
      "Mean: 85.75\n",
      "Median: 86.0\n",
      "Mode: 85\n"
     ]
    }
   ],
   "source": [
    "import statistics\n",
    "\n",
    "scores = [89, 90, 91, 90, 85, 91, 88, 80, 77, 81, 76, 85, 87, 88, 83, 95, 88, 82, 85, 84]\n",
    "\n",
    "mean = statistics.mean(scores)\n",
    "median = statistics.median(scores)\n",
    "mode = statistics.mode(scores)\n",
    "\n",
    "print(\"Mean:\", mean)\n",
    "print(\"Median:\", median)\n",
    "print(\"Mode:\", mode)"
   ]
  },
  {
   "cell_type": "markdown",
   "id": "1f1e2ead",
   "metadata": {},
   "source": [
    "### Part 2 of the exercise"
   ]
  },
  {
   "cell_type": "code",
   "execution_count": 3,
   "id": "fe830cc9",
   "metadata": {},
   "outputs": [
    {
     "name": "stdout",
     "output_type": "stream",
     "text": [
      "Mean: 151.3\n",
      "Mode: ModeResult(mode=array([103]), count=array([1]))\n",
      "Median: 157.0\n",
      "Range: 85\n",
      "Sample Data Standard Deviation: 31.53\n",
      "Sample Data Variance: 994.23\n"
     ]
    }
   ],
   "source": [
    "import numpy as np\n",
    "from scipy import stats \n",
    "\n",
    "sample = [103, 151, 176, 188, 146, 184, 175, 112, 115, 163]\n",
    "def display_stat():\n",
    "    print(\"Mean:\", mean)\n",
    "    print(\"Mode:\", mode)\n",
    "    print(\"Median:\", median)\n",
    "    print(\"Range:\", srange)\n",
    "    print(\"Sample Data Standard Deviation:\", sdeviation)\n",
    "    print(\"Sample Data Variance:\", variance)\n",
    "\n",
    "mean = np.mean(sample)\n",
    "median = np.median(sample)\n",
    "variance = round(np.var(sample, ddof = 1), 2)\n",
    "sdeviation = round(np.std(sample, ddof = 1), 2)\n",
    "\n",
    "srange = np.ptp(sample)\n",
    "mode = stats.mode(sample)\n",
    "\n",
    "display_stat()"
   ]
  }
 ],
 "metadata": {
  "kernelspec": {
   "display_name": "Python 3 (ipykernel)",
   "language": "python",
   "name": "python3"
  },
  "language_info": {
   "codemirror_mode": {
    "name": "ipython",
    "version": 3
   },
   "file_extension": ".py",
   "mimetype": "text/x-python",
   "name": "python",
   "nbconvert_exporter": "python",
   "pygments_lexer": "ipython3",
   "version": "3.10.4"
  }
 },
 "nbformat": 4,
 "nbformat_minor": 5
}
