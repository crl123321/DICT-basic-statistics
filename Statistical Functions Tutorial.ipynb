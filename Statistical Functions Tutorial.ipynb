{
 "cells": [
  {
   "cell_type": "markdown",
   "id": "5cacc337",
   "metadata": {},
   "source": [
    "## Descriptive Statistics"
   ]
  },
  {
   "cell_type": "markdown",
   "id": "c9789770",
   "metadata": {},
   "source": [
    "This block of code computes the mean of a list of numbers."
   ]
  },
  {
   "cell_type": "code",
   "execution_count": 2,
   "id": "f0df20f4",
   "metadata": {
    "scrolled": true
   },
   "outputs": [
    {
     "name": "stdout",
     "output_type": "stream",
     "text": [
      "The mean of this list is 81.5\n"
     ]
    }
   ],
   "source": [
    "def get_mean(ave):\n",
    "    print(\"The mean of this list is\", ave)\n",
    "    \n",
    "n_num = [78, 80, 79, 80, 87, 85]\n",
    "n = len(n_num)\n",
    "\n",
    "get_sum = sum(n_num)\n",
    "mean = get_sum / n\n",
    "\n",
    "#m = str(mean)\n",
    "get_mean(mean)"
   ]
  },
  {
   "cell_type": "markdown",
   "id": "c504bc23",
   "metadata": {},
   "source": [
    "This block of code computes the median of a list of numbers."
   ]
  },
  {
   "cell_type": "code",
   "execution_count": 2,
   "id": "6489bab1",
   "metadata": {},
   "outputs": [
    {
     "name": "stdout",
     "output_type": "stream",
     "text": [
      "Median: 80.0\n"
     ]
    }
   ],
   "source": [
    "import array as arr\n",
    "\n",
    "def median(nums):\n",
    "    nums.sort()\n",
    "    # this tests whether the dataset has an odd or even number of data points\n",
    "    if len(nums) % 2 == 0:\n",
    "        return int(nums[len(nums) // 2-1] + nums[len(nums) // 2]) / 2\n",
    "    else:\n",
    "        return nums[len(nums) // 2]\n",
    "\n",
    "n_num = [78, 80, 79, 80, 87, 85]\n",
    "print(\"Median:\", median(n_num))"
   ]
  },
  {
   "cell_type": "markdown",
   "id": "2f723a9a",
   "metadata": {},
   "source": [
    "## Descriptive Statististics (population) using Python's statistics module"
   ]
  },
  {
   "cell_type": "code",
   "execution_count": 6,
   "id": "b2b6b6f4",
   "metadata": {},
   "outputs": [
    {
     "name": "stdout",
     "output_type": "stream",
     "text": [
      "Mean: 5.76\n",
      "Mode: 5\n",
      "Median: 5\n",
      "Range: 8\n",
      "Standard deviation: 2.27\n",
      "Variance: 5.14\n"
     ]
    }
   ],
   "source": [
    "import statistics\n",
    "\n",
    "friends_usage = [5, 4, 3, 5, 8, 2, 5, 2, 5, 8, 10, 8, 7, 9, 10, 5, 7, 5, 7, 5, 4, 3, 5, 8, 4]\n",
    "\n",
    "mean = statistics.mean(friends_usage)\n",
    "mode = statistics.mode(friends_usage)\n",
    "median = statistics.median(friends_usage)\n",
    "pstdev = round(statistics.pstdev(friends_usage), 2)\n",
    "pvariance = round(statistics.pvariance(friends_usage), 2)\n",
    "srange = (max(friends_usage) - min(friends_usage))\n",
    "\n",
    "print(\"Mean:\", mean)\n",
    "print(\"Mode:\", mode)\n",
    "print(\"Median:\", median)\n",
    "print(\"Range:\", srange)\n",
    "print(\"Standard deviation:\", pstdev)\n",
    "print(\"Variance:\", pvariance)"
   ]
  },
  {
   "cell_type": "markdown",
   "id": "69af4591",
   "metadata": {},
   "source": [
    "## Descriptive Statististics (population and sample data) using Python's statistics module"
   ]
  },
  {
   "cell_type": "code",
   "execution_count": 8,
   "id": "8a9e05a2",
   "metadata": {},
   "outputs": [
    {
     "name": "stdout",
     "output_type": "stream",
     "text": [
      "Mean: 5.76\n",
      "Mode: 5\n",
      "Median: 5\n",
      "Range: 8\n",
      "Population Standard deviation: 2.27\n",
      "Population Variance: 5.14\n",
      "Sample Data Standard Deviation: 1.87\n",
      "Sample Data Variance: 3.5\n"
     ]
    }
   ],
   "source": [
    "import statistics\n",
    "import array as arr\n",
    "\n",
    "friends_usage = [5, 4, 3, 5, 8, 2, 5, 2, 5, 8, 10, 8, 7, 9, 10, 5, 7, 5, 7, 5, 4, 3, 5, 8, 4]\n",
    "\n",
    "sample_data = arr.array('i', friends_usage)\n",
    "dataset = sample_data[0:5]\n",
    "sample_data_list = dataset.tolist()\n",
    "\n",
    "mean = statistics.mean(friends_usage)\n",
    "mode = statistics.mode(friends_usage)\n",
    "median = statistics.median(friends_usage)\n",
    "pstdev = round(statistics.pstdev(friends_usage), 2)\n",
    "pvariance = round(statistics.pvariance(friends_usage), 2)\n",
    "srange = (max(friends_usage) - min(friends_usage))\n",
    "\n",
    "variance = round(statistics.variance(sample_data_list), 2)\n",
    "stdev = round(statistics.stdev(sample_data_list), 2)\n",
    "\n",
    "print(\"Mean:\", mean)\n",
    "print(\"Mode:\", mode)\n",
    "print(\"Median:\", median)\n",
    "print(\"Range:\", srange)\n",
    "print(\"Population Standard deviation:\", pstdev)\n",
    "print(\"Population Variance:\", pvariance)\n",
    "\n",
    "print(\"Sample Data Standard Deviation:\", stdev)\n",
    "print(\"Sample Data Variance:\", variance)\n",
    "\n"
   ]
  },
  {
   "cell_type": "markdown",
   "id": "3c6312b5",
   "metadata": {},
   "source": [
    "# Numpy Statistics"
   ]
  },
  {
   "cell_type": "markdown",
   "id": "1a335a4c",
   "metadata": {},
   "source": [
    "Descriptive Statistics using Numpy (and Scipy)"
   ]
  },
  {
   "cell_type": "code",
   "execution_count": 3,
   "id": "b17ea91b",
   "metadata": {
    "scrolled": true
   },
   "outputs": [
    {
     "name": "stdout",
     "output_type": "stream",
     "text": [
      "Mean: 5.76\n",
      "Mode: ModeResult(mode=array([5]), count=array([8]))\n",
      "Median: 5.0\n",
      "Range: 8\n",
      "Population Standard deviation: 2.27\n",
      "Population Variance: 5.14\n",
      "Sample Data Standard Deviation: 1.87\n",
      "Sample Data Variance: 3.5\n"
     ]
    }
   ],
   "source": [
    "import numpy as np\n",
    "import array as arr\n",
    "from scipy import stats\n",
    "\n",
    "f_usage = [5, 4, 3, 5, 8, 2, 5, 2, 5, 8, 10, 8, 7, 9, 10, 5, 7, 5, 7, 5, 4, 3, 5, 8, 4]\n",
    "\n",
    "def display_stat():\n",
    "    print(\"Mean:\", mean)\n",
    "    print(\"Mode:\", mode)\n",
    "    print(\"Median:\", median)\n",
    "    print(\"Range:\", srange)\n",
    "    print(\"Population Standard deviation:\", pstdev)\n",
    "    print(\"Population Variance:\", pvariance)\n",
    "    print(\"Sample Data Standard Deviation:\", sdeviation)\n",
    "    print(\"Sample Data Variance:\", variance)\n",
    "    \n",
    "mean = np.mean(f_usage)\n",
    "median = np.median(f_usage)\n",
    "pvariance = round(np.var(f_usage), 2)\n",
    "pstdev = round(np.std(f_usage), 2)\n",
    "\n",
    "srange = np.ptp(f_usage)\n",
    "mode = stats.mode(f_usage)\n",
    "\n",
    "sample_data = arr.array('i', f_usage)\n",
    "dataset = sample_data[0:5]\n",
    "f_usage_s = dataset.tolist()\n",
    "\n",
    "variance = round(np.var(f_usage_s, ddof = 1), 2)\n",
    "sdeviation = round(np.std(f_usage_s, ddof = 1), 2)\n",
    "\n",
    "display_stat()\n"
   ]
  }
 ],
 "metadata": {
  "kernelspec": {
   "display_name": "Python 3 (ipykernel)",
   "language": "python",
   "name": "python3"
  },
  "language_info": {
   "codemirror_mode": {
    "name": "ipython",
    "version": 3
   },
   "file_extension": ".py",
   "mimetype": "text/x-python",
   "name": "python",
   "nbconvert_exporter": "python",
   "pygments_lexer": "ipython3",
   "version": "3.10.4"
  }
 },
 "nbformat": 4,
 "nbformat_minor": 5
}
